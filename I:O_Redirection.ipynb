{
 "cells": [
  {
   "cell_type": "markdown",
   "id": "4c43c738",
   "metadata": {},
   "source": [
    "# Streams and I/O Redirection"
   ]
  },
  {
   "cell_type": "markdown",
   "id": "62008fab",
   "metadata": {},
   "source": [
    "Streams and Pipelines help us combine programs by sending the output of one program as the input to the next program. Pipes are executed on the terminal command line and are extremely useful.\n",
    "\n",
    "As data scientists, we constantly work with large files. Pipes help us quickly understand the contents of a file without having to build programs and setting up a development environment like Jupiter. They are also easy to write as they are usually just one line. \n",
    "\n",
    "Pipes also don’t depend on having python, anaconda or specific python packages installed on a system. They are executed directly by the shell. Another advantage of pipes is, they execute much faster than python scripts. \n"
   ]
  },
  {
   "cell_type": "markdown",
   "id": "c05b1371",
   "metadata": {},
   "source": [
    "Every UNIX process has four key components:<br>\n",
    "* a current working directory\n",
    "* standard input(keyboard)\n",
    "* standard output(terminal/screen)\n",
    "* standard error. \n",
    "\n"
   ]
  },
  {
   "cell_type": "markdown",
   "id": "bfb3455d",
   "metadata": {},
   "source": [
    "By default the output of a UNIX command is displayed on the standard output, which is the screen. <br>\n",
    "\n"
   ]
  },
  {
   "cell_type": "markdown",
   "id": "a3f3bb8e",
   "metadata": {},
   "source": [
    "## Redirection\n",
    "\n",
    "We can redirect the output to a file instead. The \" > \" operator redirects the command standard output to a file and \" < \" operator that takes the a file as input to a command. The \" >> \" operator appends to a file.\n"
   ]
  },
  {
   "cell_type": "markdown",
   "id": "d6e7c6f0",
   "metadata": {},
   "source": [
    "#### Examples\n",
    "\n",
    "Redirected the output of the echo command to foo.txt file"
   ]
  },
  {
   "cell_type": "code",
   "execution_count": 2,
   "id": "af3c6bca",
   "metadata": {},
   "outputs": [],
   "source": [
    "! echo \"a\\nb\\nc\\nd\" > foo.txt"
   ]
  },
  {
   "cell_type": "markdown",
   "id": "b164bfa2",
   "metadata": {},
   "source": [
    "The file foo.txt is created in the current directory with the output of the above echo command"
   ]
  },
  {
   "cell_type": "code",
   "execution_count": 3,
   "id": "9989e1dd",
   "metadata": {},
   "outputs": [
    {
     "name": "stdout",
     "output_type": "stream",
     "text": [
      "foo.txt\r\n"
     ]
    }
   ],
   "source": [
    "!ls foo.txt"
   ]
  },
  {
   "cell_type": "markdown",
   "id": "f8f5d205",
   "metadata": {},
   "source": [
    "In case we need to print the contents of foo.txt, the command below helps."
   ]
  },
  {
   "cell_type": "code",
   "execution_count": 4,
   "id": "5686d7fe",
   "metadata": {},
   "outputs": [
    {
     "name": "stdout",
     "output_type": "stream",
     "text": [
      "a\r\n",
      "b\r\n",
      "c\r\n",
      "d\r\n"
     ]
    }
   ],
   "source": [
    "!cat foo.txt"
   ]
  },
  {
   "cell_type": "markdown",
   "id": "cb46c753",
   "metadata": {},
   "source": [
    "In order to sort the contents of the file foo.txt, we supply it as an input to the sort program using redirection."
   ]
  },
  {
   "cell_type": "code",
   "execution_count": 5,
   "id": "0438178e",
   "metadata": {},
   "outputs": [
    {
     "name": "stdout",
     "output_type": "stream",
     "text": [
      "d\r\n",
      "c\r\n",
      "b\r\n",
      "a\r\n"
     ]
    }
   ],
   "source": [
    "! sort -r < foo.txt"
   ]
  },
  {
   "cell_type": "markdown",
   "id": "eb3b79df",
   "metadata": {},
   "source": [
    "We can also redirect the output of the standard error to a file. For example, in the below command I used can instead of cat which raises an error.\n",
    "The error is then redirected to error.txt ."
   ]
  },
  {
   "cell_type": "code",
   "execution_count": 11,
   "id": "6596a8c2",
   "metadata": {},
   "outputs": [],
   "source": [
    "! can 2> error.txt"
   ]
  },
  {
   "cell_type": "markdown",
   "id": "feafca1c",
   "metadata": {},
   "source": [
    "The following command prints the contents of error.txt ."
   ]
  },
  {
   "cell_type": "code",
   "execution_count": 12,
   "id": "ddc70686",
   "metadata": {},
   "outputs": [
    {
     "name": "stdout",
     "output_type": "stream",
     "text": [
      "zsh:1: command not found: can\r\n"
     ]
    }
   ],
   "source": [
    "! cat error.txt"
   ]
  },
  {
   "cell_type": "markdown",
   "id": "f0d83277",
   "metadata": {},
   "source": [
    "## Pipes\n",
    "#### To combine progams we use the ( | ) operator.\n",
    "This operator supplies the output of the prgram to its left as an input to the program to its right.\n",
    "\n",
    "#### Examples"
   ]
  },
  {
   "cell_type": "markdown",
   "id": "e0d9562a",
   "metadata": {},
   "source": [
    "The command below sorts the cotents of foo.txt in reverse order, appends 'f' to its contents and prints them."
   ]
  },
  {
   "cell_type": "code",
   "execution_count": 13,
   "id": "84c0ce8c",
   "metadata": {},
   "outputs": [
    {
     "name": "stdout",
     "output_type": "stream",
     "text": [
      "a\r\n",
      "b\r\n",
      "c\r\n",
      "d\r\n",
      "f\r\n"
     ]
    }
   ],
   "source": [
    "! sort -r < foo.txt | echo \"f\" >> foo.txt | cat foo.txt"
   ]
  },
  {
   "cell_type": "markdown",
   "id": "370c9760",
   "metadata": {},
   "source": [
    "In case, we need to replace the contents of a string , we execute the sed command.\n",
    "It replaces 'hello' to 'hi' in a given string."
   ]
  },
  {
   "cell_type": "code",
   "execution_count": 14,
   "id": "9d7f9b42",
   "metadata": {},
   "outputs": [
    {
     "name": "stdout",
     "output_type": "stream",
     "text": [
      "hi there\r\n"
     ]
    }
   ],
   "source": [
    "!echo \"hello there\" | sed \"s/hello/hi/\""
   ]
  },
  {
   "cell_type": "markdown",
   "id": "97579ae2",
   "metadata": {},
   "source": [
    "Let's lookup for the number of times the word 'the' has occured in a given file. "
   ]
  },
  {
   "cell_type": "code",
   "execution_count": 15,
   "id": "24b36587",
   "metadata": {},
   "outputs": [
    {
     "name": "stdout",
     "output_type": "stream",
     "text": [
      "grep: /Users/tansha/data/bbc/entertainment/002.txt: No such file or directory\r\n",
      "       0\r\n"
     ]
    }
   ],
   "source": [
    "! grep 'the' ~/data/bbc/entertainment/002.txt | wc -w"
   ]
  },
  {
   "cell_type": "markdown",
   "id": "a8984dc3",
   "metadata": {},
   "source": [
    "### Fun example Below!"
   ]
  },
  {
   "cell_type": "markdown",
   "id": "275f64a0",
   "metadata": {},
   "source": [
    "The curl command reads the contents of a URL and writes them to a file, pdf in this case."
   ]
  },
  {
   "cell_type": "code",
   "execution_count": 101,
   "id": "d15abfab",
   "metadata": {},
   "outputs": [
    {
     "name": "stdout",
     "output_type": "stream",
     "text": [
      "  % Total    % Received % Xferd  Average Speed   Time    Time     Time  Current\n",
      "                                 Dload  Upload   Total   Spent    Left  Speed\n",
      "100 24.5M  100 24.5M    0     0  6946k      0  0:00:03  0:00:03 --:--:-- 6946k6822k      0  0:00:03  0:00:02  0:00:01 6822k\n"
     ]
    }
   ],
   "source": [
    "! curl \"https://manuals.info.apple.com/MANUALS/1000/MA1733/en_US/imac-late2015-essentials.pdf\" > imac.pdf"
   ]
  },
  {
   "cell_type": "markdown",
   "id": "3e0458a1",
   "metadata": {},
   "source": [
    "In order to analyse the text, we use pdftotext command to convert a pdf file into a text file."
   ]
  },
  {
   "cell_type": "code",
   "execution_count": 102,
   "id": "966fb588",
   "metadata": {},
   "outputs": [],
   "source": [
    "! pdftotext imac.pdf > imac.txt"
   ]
  },
  {
   "cell_type": "markdown",
   "id": "a1e98a63",
   "metadata": {},
   "source": [
    "Let us read the text file and print the words and the number of times they appear in decreasing order."
   ]
  },
  {
   "cell_type": "code",
   "execution_count": 130,
   "id": "c4209774",
   "metadata": {},
   "outputs": [
    {
     "name": "stdout",
     "output_type": "stream",
     "text": [
      " 838 the\r\n",
      " 565 to\r\n",
      " 478 your\r\n",
      " 418 and\r\n",
      " 289 a\r\n",
      " 284 you\r\n",
      " 260 or\r\n",
      " 244 in\r\n",
      " 208 on\r\n",
      " 192 click\r\n",
      " 176 of\r\n",
      " 157 apple\r\n",
      " 146 with\r\n",
      " 136 for\r\n",
      " 117 imac\r\n",
      " 111 then\r\n",
      " 111 can\r\n",
      " 105 an\r\n",
      "  99 is\r\n",
      "  87 use\r\n"
     ]
    }
   ],
   "source": [
    "! tr -s ' ' '\\n' < imac.txt | tr 'A-Z' 'a-z' | sort | uniq -c | sort -r -n | head -20  "
   ]
  },
  {
   "cell_type": "markdown",
   "id": "8a39703f",
   "metadata": {},
   "source": [
    "We are familiar with joins in SQL. A similar thing can be done on the terminal itself where we can combine two separate text files on a common column. \n",
    "\n",
    "The code below will combine the file_1.txt and file_2.txt on the common column they share."
   ]
  },
  {
   "cell_type": "code",
   "execution_count": 137,
   "id": "880d0b5e",
   "metadata": {},
   "outputs": [
    {
     "name": "stdout",
     "output_type": "stream",
     "text": [
      "Student_1 1\r\n",
      "Student_2 2\r\n",
      "Student_3 3\r\n",
      "Student_4 4\r\n"
     ]
    }
   ],
   "source": [
    "! cat file_1.txt"
   ]
  },
  {
   "cell_type": "code",
   "execution_count": 138,
   "id": "e1815165",
   "metadata": {},
   "outputs": [
    {
     "name": "stdout",
     "output_type": "stream",
     "text": [
      " 101 1\r\n",
      " 102 2\r\n",
      " 103 3\r\n",
      " 104 4\r\n"
     ]
    }
   ],
   "source": [
    "! cat file_2.txt"
   ]
  },
  {
   "cell_type": "markdown",
   "id": "e697dab6",
   "metadata": {},
   "source": [
    "Here -1 2 refers to the use of 2 column of first file as the common field and -2 2refers to the use of 2 column of second file as the common field for joining."
   ]
  },
  {
   "cell_type": "code",
   "execution_count": 135,
   "id": "97bc139a",
   "metadata": {},
   "outputs": [
    {
     "name": "stdout",
     "output_type": "stream",
     "text": [
      "1 Student_1 101\r\n",
      "2 Student_2 102\r\n",
      "3 Student_3 103\r\n",
      "4 Studdent_4 104\r\n"
     ]
    }
   ],
   "source": [
    "! join -1 2 -2 2 file_1.txt file_2.txt"
   ]
  },
  {
   "cell_type": "markdown",
   "id": "3d831715",
   "metadata": {},
   "source": [
    "#### Another important aspect will be to analyse the csv data.  \n",
    "You can extract the headers of a csv file to check what data the file contains. Running the command below will print the headers in a single row. To print each header in a single row, we translate the ',' separator to a new line separator. "
   ]
  },
  {
   "cell_type": "code",
   "execution_count": 82,
   "id": "b913e930",
   "metadata": {},
   "outputs": [
    {
     "name": "stdout",
     "output_type": "stream",
     "text": [
      "Sate\r\n",
      "Unemployment_rate\r\n",
      "Population\r\n",
      "Homicide_rate\r\n"
     ]
    }
   ],
   "source": [
    "#headers\n",
    "! head -n1 states.csv | tr ',' '\\n'"
   ]
  },
  {
   "cell_type": "markdown",
   "id": "2ed01dfd",
   "metadata": {},
   "source": [
    "To get the enteries in a column that begin with a particular string, we execute somehting like below.\n",
    "The csvgrep command grabs the data(full records) in a column(-c), column number 1 searching for the regex pattern(-r) that begins with(^New). <br>\n",
    "\n",
    "The data is looked for in a file states.csv.<br>\n",
    "\n",
    "The tail +2 command removes the header of the column being analysed and prints out only the matching values in the column (1 in this case). <br>\n",
    "\n",
    "The csvcut command extracts only the column 1."
   ]
  },
  {
   "cell_type": "code",
   "execution_count": 22,
   "id": "60f5fde5",
   "metadata": {},
   "outputs": [
    {
     "name": "stdout",
     "output_type": "stream",
     "text": [
      "New Hampshire\r\n",
      "New Jersey\r\n",
      "New Mexico\r\n",
      "New York\r\n"
     ]
    }
   ],
   "source": [
    "#records that start with new\n",
    "! csvgrep -c 1 -r '^New' -e latin1 states.csv | tail +2 | csvcut -c 1"
   ]
  },
  {
   "cell_type": "markdown",
   "id": "788c427e",
   "metadata": {},
   "source": [
    "What if we want to extract the state names that begin with 'New' or end with 'Carolina'.<br>\n",
    "The command above can be modified to extract such state names."
   ]
  },
  {
   "cell_type": "code",
   "execution_count": 23,
   "id": "3cd06941",
   "metadata": {},
   "outputs": [
    {
     "name": "stdout",
     "output_type": "stream",
     "text": [
      "New Hampshire\r\n",
      "New Jersey\r\n",
      "New Mexico\r\n",
      "New York\r\n",
      "North Carolina\r\n",
      "South Carolina\r\n"
     ]
    }
   ],
   "source": [
    "! csvgrep -c 1 -r '^New|Carolina$' -e latin1 states.csv | tail +2 | csvcut -c 1"
   ]
  },
  {
   "cell_type": "markdown",
   "id": "d33b2c66",
   "metadata": {},
   "source": [
    "In case we want to fetch the records that have state names beginning with 'New' or ending with 'Carolina' and make a smaller subset, we canm execute the command below.\n"
   ]
  },
  {
   "cell_type": "code",
   "execution_count": 24,
   "id": "cef3854f",
   "metadata": {},
   "outputs": [
    {
     "name": "stdout",
     "output_type": "stream",
     "text": [
      "New Hampshire,2.9,1372203,1\r\n",
      "New Jersey,7.3,8874520,3.6\r\n",
      "New Mexico,,2105005,7.1\r\n",
      "New York,7.7,19299981,2.8\r\n",
      "North Carolina,4.6,10701022,5.8\r\n",
      "South Carolina,4.5,5277830,7.8\r\n"
     ]
    }
   ],
   "source": [
    "! csvgrep -c 1 -r '^New|Carolina$' -e latin1 states.csv | tail +2"
   ]
  },
  {
   "cell_type": "markdown",
   "id": "8bed8709",
   "metadata": {},
   "source": [
    "In case you want to extarct a few columns and club them into a new file, the same can be done.<br>\n",
    "The paste command will slap the the two files next to each other"
   ]
  },
  {
   "cell_type": "code",
   "execution_count": 70,
   "id": "848dab58",
   "metadata": {},
   "outputs": [],
   "source": [
    "! csvcut -c 1 states.csv | tail +2 > state_names.txt"
   ]
  },
  {
   "cell_type": "code",
   "execution_count": 71,
   "id": "827c3e40",
   "metadata": {},
   "outputs": [],
   "source": [
    "! csvcut -c 'Population' states.csv | tail +2 > state_population.txt"
   ]
  },
  {
   "cell_type": "markdown",
   "id": "1d1affc1",
   "metadata": {},
   "source": [
    "The folllowing command not merges the files horizontally but also ranks the states on the basis of population in the descending order."
   ]
  },
  {
   "cell_type": "code",
   "execution_count": 72,
   "id": "229540d3",
   "metadata": {},
   "outputs": [
    {
     "name": "stdout",
     "output_type": "stream",
     "text": [
      "39613493 California\r\n",
      "29730311 Texas\r\n",
      "21944577 Florida\r\n",
      "19299981 New York\r\n",
      "12804123 Pennsylvania\r\n",
      "12569321 Illinois\r\n",
      "11714618 Ohio\r\n",
      "10830007 Georgia\r\n",
      "10701022 North Carolina\r\n",
      "9992427 Michigan\r\n",
      "8874520 New Jersey\r\n",
      "8603985 Virginia\r\n",
      "7796941 Washington\r\n",
      "7520103 Arizona\r\n",
      "6944260 Tennessee\r\n",
      "6912239 Massachusetts\r\n",
      "6805663 Indiana\r\n",
      "6169038 Missouri\r\n",
      "6065436 Maryland\r\n",
      "5893634 Colorado\r\n",
      "5852490 Wisconsin\r\n",
      "5706398 Minnesota\r\n",
      "5277830 South Carolina\r\n",
      "4934193 Alabama\r\n",
      "4627002 Louisiana\r\n",
      "4480713 Kentucky\r\n",
      "4289439 Oregon\r\n",
      "3990443 Oklahoma\r\n",
      "3552821 Connecticut\r\n",
      "3310774 Utah\r\n",
      "3185786 Nevada\r\n",
      "3167974 Iowa\r\n",
      "3033946 Arkansas\r\n",
      "2966407 Mississippi\r\n",
      "2917224 Kansas\r\n",
      "2105005 New Mexico\r\n",
      "1951996 Nebraska\r\n",
      "1860123 Idaho\r\n",
      "1767859 West Virginia\r\n",
      "1406430 Hawaii\r\n",
      "1372203 New Hampshire\r\n",
      "1354522 Maine\r\n",
      "1085004 Montana\r\n",
      "1061509 Rhode Island\r\n",
      "990334 Delaware\r\n",
      "896581 South Dakota\r\n",
      "770026 North Dakota\r\n",
      "724357 Alaska\r\n",
      "714153 District of Columbia\r\n",
      "623251 Vermont\r\n",
      "581075 Wyoming\r\n"
     ]
    }
   ],
   "source": [
    "! paste -d\" \" state_population.txt state_names.txt > population.txt | sort -r -n"
   ]
  },
  {
   "cell_type": "code",
   "execution_count": 73,
   "id": "a4db2f8e",
   "metadata": {},
   "outputs": [],
   "source": [
    "! csvcut -c 'Unemployment_rate' states.csv | tail +2 > state_unemployment.txt"
   ]
  },
  {
   "cell_type": "code",
   "execution_count": 74,
   "id": "afd025f8",
   "metadata": {},
   "outputs": [],
   "source": [
    "! csvcut -c 'Homicide_rate' states.csv | tail +2 > state_homicide.txt"
   ]
  },
  {
   "cell_type": "markdown",
   "id": "1dbafe70",
   "metadata": {},
   "source": [
    "The paste command can also be used to stick more than two files together, where the values are separated by delimiters like \" _ \"."
   ]
  },
  {
   "cell_type": "code",
   "execution_count": 75,
   "id": "feb8ce79",
   "metadata": {},
   "outputs": [
    {
     "name": "stdout",
     "output_type": "stream",
     "text": [
      "Wyoming_5.4_2.6\r\n",
      "Wisconsin_3.9_3.2\r\n",
      "West Virginia_5.3_4.7\r\n",
      "Washington_5.2_3.1\r\n",
      "Virginia_4.3_5.3\r\n",
      "Vermont_3.1_2.2\r\n",
      "Utah_2.7_2.4\r\n",
      "Texas_6.5_5\r\n",
      "Tennessee_4.9_7.8\r\n",
      "South Dakota_2.9_2.9\r\n"
     ]
    }
   ],
   "source": [
    "! paste -d\"__ __\" state_names.txt state_unemployment.txt state_homicide.txt > population.txt | sort -r -n | head -10"
   ]
  },
  {
   "cell_type": "markdown",
   "id": "232728e0",
   "metadata": {},
   "source": [
    "On adding nl command the records of the file get numbered based on the order in which they are present in the file."
   ]
  },
  {
   "cell_type": "code",
   "execution_count": 31,
   "id": "d032aaf0",
   "metadata": {},
   "outputs": [
    {
     "name": "stdout",
     "output_type": "stream",
     "text": [
      "     1\tAlabama,3.3,4934193,8.3\r\n",
      "     2\tAlaska,6.6,724357,8.4\r\n",
      "     3\tArizona,6.8,7520103,5.9\r\n",
      "     4\tArkansas,4.4,3033946,8.6\r\n",
      "     5\tCalifornia,7.7,39613493,4.6\r\n",
      "     6\tColorado,6.2,5893634,3.9\r\n",
      "     7\tConnecticut,7.9,3552821,2.8\r\n",
      "     8\tDelaware,5.8,990334,5.6\r\n",
      "     9\tDistrict of Columbia,7,714153,6.8\r\n",
      "    10\tFlorida,5,21944577,5\r\n"
     ]
    }
   ],
   "source": [
    "! cat states.csv | tail +2 | head -10 | nl"
   ]
  },
  {
   "cell_type": "markdown",
   "id": "9ed0cde8",
   "metadata": {},
   "source": [
    "The command below will delete everything except the the records from 2 to 5."
   ]
  },
  {
   "cell_type": "code",
   "execution_count": 32,
   "id": "11ca93df",
   "metadata": {},
   "outputs": [
    {
     "name": "stdout",
     "output_type": "stream",
     "text": [
      "Alaska,6.6,724357,8.4\r\n",
      "Arizona,6.8,7520103,5.9\r\n",
      "Arkansas,4.4,3033946,8.6\r\n",
      "California,7.7,39613493,4.6\r\n"
     ]
    }
   ],
   "source": [
    "! cat states.csv | tail +2 | sed '2,5!d' "
   ]
  }
 ],
 "metadata": {
  "kernelspec": {
   "display_name": "Python 3",
   "language": "python",
   "name": "python3"
  },
  "language_info": {
   "codemirror_mode": {
    "name": "ipython",
    "version": 3
   },
   "file_extension": ".py",
   "mimetype": "text/x-python",
   "name": "python",
   "nbconvert_exporter": "python",
   "pygments_lexer": "ipython3",
   "version": "3.8.8"
  }
 },
 "nbformat": 4,
 "nbformat_minor": 5
}
